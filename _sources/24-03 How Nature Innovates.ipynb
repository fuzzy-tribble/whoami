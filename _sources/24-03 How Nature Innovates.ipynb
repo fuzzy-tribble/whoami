{
 "cells": [
  {
   "cell_type": "markdown",
   "metadata": {},
   "source": [
    "# How nature innovates - napkin calcs\n",
    "<span style=\"float:right; font-size:0.9em;\">March 2024</span>\n",
    "\n",
    "<span style=\"font-size:0.9em; font-style:italic;\">\n",
    "#evolution\n",
    "</span>\n",
    "</br></br>"
   ]
  },
  {
   "cell_type": "markdown",
   "metadata": {},
   "source": [
    "## Introduction\n",
    "\n",
    "In *Arrival of the Fittest*, [Andreas Wagner](https://www.ieu.uzh.ch/wagner/) suggests that robustness facilitates evolutionary innovation (discovery of novel function). His lab looks at innovations in metabolism, regulation, and macromolecules and ask what common principles of innovation exist. This includes questions like how nature: preserves what works while exploring the new? discovers solutions in such a large solution space?\n",
    "\n",
    "This notebook explores these claims and ideas."
   ]
  },
  {
   "cell_type": "markdown",
   "metadata": {},
   "source": [
    "## How long should it take for bacteria to innovate to survive penicillin?"
   ]
  },
  {
   "cell_type": "markdown",
   "metadata": {},
   "source": [
    "This question helps us understand whether nature is intelligently exploring a solution space or if the structure of that space simply allows effective random exploration. Specifically, we want to calculate the probability that a population will stumble upon mutation **X** purely by chance.\n",
    "\n",
    "In *Arrival of the Fittest*, Andreas Wagner presents a fresh perspective on evolutionary innovation: robustness—the capacity of biological systems to withstand change—actually facilitates the discovery of novel functions. By conceptualizing genes, proteins, and metabolic pathways as vast “genotype networks,” Wagner shows how populations can drift neutrally through these networks, preserving existing functions while uncovering new adaptive opportunities. This framework explains how complexity and diversity emerge naturally in biological systems without requiring improbable one-step mutations."
   ]
  },
  {
   "cell_type": "markdown",
   "metadata": {},
   "source": [
    "### Expected Time for Random Discovery\n",
    "\n",
    "1. **Space size**  \n",
    "   $$\n",
    "   S = 10^{X}\n",
    "   $$\n",
    "\n",
    "2. **New variants per generation**  \n",
    "   $$\n",
    "   V = N_{\\mathrm{cells}} \\times \\mu\n",
    "   $$\n",
    "\n",
    "3. **Probability of success per generation**  \n",
    "   $$\n",
    "   p = \\frac{V}{S}\n",
    "   $$\n",
    "\n",
    "4. **Expected generations to discovery**  \n",
    "   $$\n",
    "   E[G] = \\frac{1}{p} = \\frac{S}{V}\n",
    "   $$\n",
    "\n",
    "5. **Expected time (hours)**  \n",
    "   $$\n",
    "   E[T_{\\mathrm{hrs}}] = E[G] \\times t_{\\mathrm{gen}}\n",
    "   $$\n",
    "\n",
    "6. **Expected time (years)**  \n",
    "   $$\n",
    "   E[T_{\\mathrm{yrs}}] = \\frac{E[T_{\\mathrm{hrs}}]}{24 \\times 365}\n",
    "   $$"
   ]
  },
  {
   "cell_type": "code",
   "execution_count": 2,
   "metadata": {},
   "outputs": [
    {
     "name": "stdout",
     "output_type": "stream",
     "text": [
      "So, the expected number of generations to hit one specific sequence in a 10^130-sized space is ≈ 2.00e+123 generations.\n",
      "So, the expected time is ≈ 1.00e+123 hours (1.14e+119 years).\n"
     ]
    }
   ],
   "source": [
    "import math\n",
    "\n",
    "# ------------------------------------------\n",
    "# PARAMETERS\n",
    "# ------------------------------------------\n",
    "X_log10 = 130         # log10 of space size (e.g., proteins ~20^100 ≈10^130)\n",
    "N_cells = 1e9         # number of bacteria in the culture\n",
    "mu = 5e-3             # mutation rate per genome per generation\n",
    "t_gen_hours = 0.5     # time per generation in hours (≈30 minutes)\n",
    "\n",
    "# ------------------------------------------\n",
    "# CALCULATIONS\n",
    "# ------------------------------------------\n",
    "# 1. Calc solution space size: S = 10^X_log10\n",
    "S = 10 ** X_log10\n",
    "\n",
    "# 2. Calc new variants per generation: V = N_cells * mu\n",
    "V = N_cells * mu\n",
    "\n",
    "# 3. Prob of success per generation: p = V / S\n",
    "p = V / S\n",
    "\n",
    "# 4. Expected num of generations to discovery: E_gen = 1 / p\n",
    "E_gen = 1 / p\n",
    "\n",
    "# 5. Expected time (hours): E_time_hours = E_gen * t_gen_hours\n",
    "E_time_hours = E_gen * t_gen_hours\n",
    "\n",
    "# 6. And in years that is...: E_time_years = E_time_hours / (24*365)\n",
    "E_time_years = E_time_hours / (24 * 365)\n",
    "\n",
    "# ------------------------------------------\n",
    "# OUTPUT RESULTS\n",
    "# ------------------------------------------\n",
    "print(f\"So, the expected number of generations to hit one specific sequence in a 10^{X_log10}-sized space is ≈ {E_gen:.2e} generations.\")\n",
    "print(f\"So, the expected time is ≈ {E_time_hours:.2e} hours ({E_time_years:.2e} years).\")"
   ]
  },
  {
   "cell_type": "markdown",
   "metadata": {},
   "source": [
    "> **Conclusion:**  \n",
    "> Blind sampling of a $10^{130}$-size space is essentially impossible.  \n",
    "> Evolution must exploit **local** structure paths—rather than a pure random search.\n",
    "\n",
    "Wagner talks about considering strings of amino acids 100 letters long with\n",
    "- 10^130 proteins (library of short proteins)\n",
    "- 10^700 regulatory circuits\n",
    "- 10^1000 metabolism"
   ]
  },
  {
   "cell_type": "markdown",
   "metadata": {},
   "source": [
    "## How is possibility space structured (such that random search can find solutions)?\n",
    "\n",
    "We know from experimental evolution—often of bacteria—that novel functions can emerge remarkably quickly. To explain this, the underlying “possibility space” (or genotype space) must be richly structured. Andreas Wagner calls this structure **genotype networks**: vast, interconnected sets of genotypes that all map to the same phenotype.\n",
    "\n",
    "1. **Synonymous texts as an analogy**  \n",
    "   - Imagine every possible amino‐acid sequence as a “text.” Two such texts—a plant globin and an insect globin—both transport O₂, yet differ by roughly 90 % of their residues. Despite this divergence, they fold into virtually identical 3D shapes and bind oxygen in the same way.  \n",
    "   - All sequences that perform the same function form a “neighborhood” in sequence space. Within this neighborhood, single mutations—or a few steps—lead from one functional sequence to another without losing the phenotype.\n",
    "\n",
    "2. **Sprawling genotype networks**  \n",
    "   - Walking through this neighborhood, one can move in many directions while preserving function. Such connectivity means that a population can accumulate mutations, drift across the network, and stumble upon adjacent regions that encode new or improved functions—yet never stray into nonfunctional territory.\n",
    "\n",
    "3. **Robustness enables innovation**  \n",
    "   - **Robustness** (the ability of a system to tolerate mutations without phenotypic change) creates these expansive networks.  \n",
    "   - Without robustness, single mutations would more often be deleterious, collapsing exploration. With robustness, populations can “scour” large regions of genotype space, making random search surprisingly effective.\n",
    "\n",
    "4. **Generalizing across biological “libraries”**  \n",
    "   - Wagner argues the same principles apply not only to proteins but to metabolic pathways, regulatory circuits, and macromolecular assemblies. In each case, functional diversity arises from richly interconnected genotype networks.  \n",
    "   - **Core takeaway:** Robust genotype networks—and the diverse neighborhoods they create—are both necessary and sufficient for biological innovation.\n",
    "\n",
    "5. **Implications for engineered systems**  \n",
    "   - Like nature’s **Lego principle**, a small set of building blocks plus simple linking rules can yield an immense repertoire of functional assemblies.  \n",
    "   - Minimal complexity and modularity aren’t obstacles to innovation; they are enablers.\n",
    "\n",
    "> **Conclusion:**  \n",
    "> Nature’s “libraries” are organized so that most functions have many synonymous solutions. Random mutation—what organisms do best—can then efficiently explore these networks, conserving existing functions while discovering new ones.\n",
    "\n",
    "---\n",
    "\n",
    "**Sources:**  \n",
    "- Andreas Wagner, _Arrival of the Fittest_ (2014)  \n",
    "- “Arrival of the Fittest” talk at the Royal Institution, 13 November 2014 (YouTube)"
   ]
  }
 ],
 "metadata": {
  "kernelspec": {
   "display_name": ".venv",
   "language": "python",
   "name": "python3"
  },
  "language_info": {
   "codemirror_mode": {
    "name": "ipython",
    "version": 3
   },
   "file_extension": ".py",
   "mimetype": "text/x-python",
   "name": "python",
   "nbconvert_exporter": "python",
   "pygments_lexer": "ipython3",
   "version": "3.12.10"
  }
 },
 "nbformat": 4,
 "nbformat_minor": 2
}
