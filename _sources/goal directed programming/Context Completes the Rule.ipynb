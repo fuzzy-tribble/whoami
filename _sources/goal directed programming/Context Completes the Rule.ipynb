{
 "cells": [
  {
   "cell_type": "markdown",
   "metadata": {},
   "source": [
    "# Context Completes the Rule\n",
    "<span style=\"float:right; font-size:0.9em;\">March 2025</span>\n",
    "\n",
    "<span style=\"font-size:0.9em; font-style:italic;\">\n",
    "#sorting\n",
    "</span>\n",
    "</br></br>"
   ]
  },
  {
   "cell_type": "markdown",
   "metadata": {},
   "source": [
    "## Introduction\n",
    "\n",
    "> *Systems exhibit goal-directedness not because of what they're made of, but because of how their internal parts and rules interact in a broader context.*  \n",
    "> — Levin, [Classical Sorting Algorithms as a Model of Morphogenesis](https://osf.io/preprints/osf/e5d4u_v1)\n",
    "\n",
    "This notebook is an exercise in epistemology and perspective. It explores the idea that a rule's **causal power is context-dependent**—you can’t understand it in isolation, only in interaction with the environment that constrains and enables it.\n",
    "\n",
    "Levin shows that simple algorithms, when distributed across many agents, can produce robust, goal-directed behavior—even when individual agents are error-prone, memoryless, or acting with incomplete information.\n",
    "\n",
    "Here, we replicate and extend his results using sorting algorithms. We show that distributing a rule like \"swap if greater\" across many agents leads to:\n",
    "- Goal-directedness\n",
    "- Fault tolerance\n",
    "- Convergence without centralized control\n",
    "\n",
    "Even when agents are noisy or follow different rules, the system still tends toward order. **Robustness emerges from interaction**, not from explicit top-down engineering.\n",
    "\n",
    "This raises bigger questions that many of us are working on:\n",
    "- Can we predict what a rule will do in a system of scale *X* and structure *Y*?\n",
    "- Do we always have to simulate? Or are there general **dynamical principles** we can learn?\n",
    "\n",
    "In software engineering, we spend massive resources building fault tolerance explicitly. But what if, as shown here, **the right rules in the right context give us robustness for free**?\n",
    "\n",
    "Understanding these dynamics is more than an academic curiosity—it’s a design principle with real-world implications."
   ]
  },
  {
   "cell_type": "markdown",
   "metadata": {},
   "source": [
    "## Setup"
   ]
  },
  {
   "cell_type": "code",
   "execution_count": 11,
   "metadata": {},
   "outputs": [],
   "source": [
    "import random\n",
    "import numpy as np\n",
    "import matplotlib.pyplot as plt\n",
    "import matplotlib.animation as animation\n",
    "from IPython.display import Video"
   ]
  },
  {
   "cell_type": "code",
   "execution_count": 2,
   "metadata": {},
   "outputs": [],
   "source": [
    "def bubble_sort(arr):\n",
    "    n = len(arr)\n",
    "    snapshots = [arr.copy()]  # capture initial state\n",
    "    for i in range(n):\n",
    "        for j in range(0, n - i - 1):\n",
    "            if arr[j] > arr[j + 1]:\n",
    "                arr[j], arr[j + 1] = arr[j + 1], arr[j]\n",
    "            snapshots.append(arr.copy())\n",
    "    return snapshots"
   ]
  },
  {
   "cell_type": "code",
   "execution_count": 3,
   "metadata": {},
   "outputs": [],
   "source": [
    "def save_sort_animation(snapshots, filename=\"sort_demo.mp4\"):\n",
    "    fig, ax = plt.subplots()\n",
    "    bar_rects = ax.bar(range(len(snapshots[0])), snapshots[0])\n",
    "    ax.set_ylim(0, max(snapshots[0]) + 1)\n",
    "\n",
    "    def update(frame):\n",
    "        for rect, h in zip(bar_rects, snapshots[frame]):\n",
    "            rect.set_height(h)\n",
    "        return bar_rects\n",
    "\n",
    "    ani = animation.FuncAnimation(fig, update, frames=len(snapshots), interval=200, repeat=False)\n",
    "    ani.save(filename, writer=\"ffmpeg\", fps=5)\n",
    "    plt.close(fig)"
   ]
  },
  {
   "cell_type": "markdown",
   "metadata": {},
   "source": [
    "## Behavior of Traditional Top Down Bubble Sort\n",
    "\n",
    "Top down goal: \"sort this list\""
   ]
  },
  {
   "cell_type": "markdown",
   "metadata": {},
   "source": [
    "The swap rule is applied serially (one pair at a time)."
   ]
  },
  {
   "cell_type": "code",
   "execution_count": null,
   "metadata": {},
   "outputs": [
    {
     "data": {
      "text/html": [
       "<video src=\"sort_demo.mp4\" controls  >\n",
       "      Your browser does not support the <code>video</code> element.\n",
       "    </video>"
      ],
      "text/plain": [
       "<IPython.core.display.Video object>"
      ]
     },
     "execution_count": 4,
     "metadata": {},
     "output_type": "execute_result"
    }
   ],
   "source": [
    "arr = random.sample(range(1, 21), 20) # use the same array for consistency\n",
    "snapshots = bubble_sort(arr.copy())\n",
    "\n",
    "save_sort_animation(snapshots, \"sort_demo.mp4\")\n",
    "# Video(\"sort_demo.mp4\") # note to self: converted this vid to gif for jupyterbook compatibility. Uncomment if running locally"
   ]
  },
  {
   "cell_type": "markdown",
   "metadata": {},
   "source": [
    "<!-- Note to self: converted this video to a gif for jupyterbook compatibility. -->\n",
    "![Sorting Animation](sort_demo.gif)"
   ]
  },
  {
   "cell_type": "markdown",
   "metadata": {},
   "source": [
    "## Decentralization of the simple swap rule still leads to convergence (a \"goal\")"
   ]
  },
  {
   "cell_type": "markdown",
   "metadata": {},
   "source": [
    "Instead of treating sorting as a top‑down process, we now frame each array element as a local agent executing its own simple goal—“nudge me toward correct order\""
   ]
  },
  {
   "cell_type": "code",
   "execution_count": 5,
   "metadata": {},
   "outputs": [],
   "source": [
    "def decentralized_sort(arr, passes=100):\n",
    "    n = len(arr)\n",
    "    snapshots = [arr.copy()]\n",
    "    for _ in range(passes):\n",
    "        for i in range(0, n - 1, 2):  # even-indexed pairs\n",
    "            if arr[i] > arr[i + 1]:\n",
    "                arr[i], arr[i + 1] = arr[i + 1], arr[i]\n",
    "        snapshots.append(arr.copy())\n",
    "        for i in range(1, n - 1, 2):  # odd-indexed pairs\n",
    "            if arr[i] > arr[i + 1]:\n",
    "                arr[i], arr[i + 1] = arr[i + 1], arr[i]\n",
    "        snapshots.append(arr.copy())\n",
    "    return snapshots"
   ]
  },
  {
   "cell_type": "code",
   "execution_count": null,
   "metadata": {},
   "outputs": [
    {
     "data": {
      "text/html": [
       "<video src=\"decentralized_sort.mp4\" controls  >\n",
       "      Your browser does not support the <code>video</code> element.\n",
       "    </video>"
      ],
      "text/plain": [
       "<IPython.core.display.Video object>"
      ]
     },
     "execution_count": 6,
     "metadata": {},
     "output_type": "execute_result"
    }
   ],
   "source": [
    "arr2 = random.sample(range(1, 21), 20)\n",
    "snapshots2 = decentralized_sort(arr2.copy())\n",
    "\n",
    "save_sort_animation(snapshots2, filename=\"decentralized_sort.mp4\")\n",
    "# Video(\"decentralized_sort.mp4\")"
   ]
  },
  {
   "cell_type": "markdown",
   "metadata": {},
   "source": [
    "![Decentralized Sorting Animation](decentralized_sort.gif)"
   ]
  },
  {
   "cell_type": "markdown",
   "metadata": {},
   "source": [
    "## Noise, antagonists, and imperfections in the decentralized system still lead to convergence"
   ]
  },
  {
   "cell_type": "code",
   "execution_count": 7,
   "metadata": {},
   "outputs": [],
   "source": [
    "def imperfect_distributed_sort(arr, passes=100, p_correct=0.9):\n",
    "    \"\"\"\n",
    "    Simulates decentralized sorting where each agent has a chance to behave incorrectly.\n",
    "    :param arr: list to sort\n",
    "    :param passes: number of iterations\n",
    "    :param p_correct: probability that a swap/comparison is performed correctly\n",
    "    \"\"\"\n",
    "    import numpy as np\n",
    "\n",
    "    n = len(arr)\n",
    "    snapshots = [arr.copy()]\n",
    "    for _ in range(passes):\n",
    "        # Even step\n",
    "        for i in range(0, n - 1, 2):\n",
    "            if np.random.rand() < p_correct and arr[i] > arr[i + 1]:\n",
    "                arr[i], arr[i + 1] = arr[i + 1], arr[i]\n",
    "        snapshots.append(arr.copy())\n",
    "        # Odd step\n",
    "        for i in range(1, n - 1, 2):\n",
    "            if np.random.rand() < p_correct and arr[i] > arr[i + 1]:\n",
    "                arr[i], arr[i + 1] = arr[i + 1], arr[i]\n",
    "        snapshots.append(arr.copy())\n",
    "    return snapshots"
   ]
  },
  {
   "cell_type": "code",
   "execution_count": null,
   "metadata": {},
   "outputs": [
    {
     "data": {
      "text/html": [
       "<video src=\"imperfect_sort.mp4\" controls  >\n",
       "      Your browser does not support the <code>video</code> element.\n",
       "    </video>"
      ],
      "text/plain": [
       "<IPython.core.display.Video object>"
      ]
     },
     "execution_count": 8,
     "metadata": {},
     "output_type": "execute_result"
    }
   ],
   "source": [
    "arr3 = random.sample(range(1, 21), 20)\n",
    "snapshots3 = imperfect_distributed_sort(arr3.copy(), p_correct=0.85)\n",
    "save_sort_animation(snapshots3, filename=\"imperfect_sort.mp4\")\n",
    "# Video(\"imperfect_sort.mp4\")"
   ]
  },
  {
   "cell_type": "markdown",
   "metadata": {},
   "source": [
    "![Imperfect Sorting Animation](imperfect_sort.gif)"
   ]
  },
  {
   "cell_type": "markdown",
   "metadata": {},
   "source": [
    "## Chimeric sorting behaviors still lead to convergence"
   ]
  },
  {
   "cell_type": "markdown",
   "metadata": {},
   "source": [
    "What happens when individual agents within the array population follow **different sorting rules**?\n",
    "\n",
    "Here, we introduce heterogeneity by assigning different agents one of several strategies:\n",
    "- Classic bubble sort rule\n",
    "- Inverse rule (e.g., sort backward)\n",
    "- Noisy/chaotic behavior (swap randomly)\n",
    "- Passive behavior (never swap)\n",
    "\n",
    "This simulates competitive or cooperative dynamics among interacting \"cell types,\" reflecting diversity in biological systems or agent-based environments."
   ]
  },
  {
   "cell_type": "code",
   "execution_count": 12,
   "metadata": {},
   "outputs": [],
   "source": [
    "def chimeric_sort(arr, passes=100, strategies=None):\n",
    "    \"\"\"\n",
    "    Assigns each index an agent type and simulates sorting via chimeric strategies.\n",
    "    :param arr: array to sort\n",
    "    :param passes: number of rounds\n",
    "    :param strategies: list of strategies for each index. Must match length of arr.\n",
    "    \"\"\"\n",
    "    n = len(arr)\n",
    "    if strategies is None:\n",
    "        strategies = np.random.choice(['bubble', 'reverse', 'random', 'passive'], size=n)\n",
    "    assert len(strategies) == n, \"Each element must have a strategy\"\n",
    "    \n",
    "    snapshots = [arr.copy()]\n",
    "    \n",
    "    for _ in range(passes):\n",
    "        for i in range(n - 1):\n",
    "            s = strategies[i]\n",
    "            if s == 'bubble' and arr[i] > arr[i + 1]:\n",
    "                arr[i], arr[i + 1] = arr[i + 1], arr[i]\n",
    "            elif s == 'reverse' and arr[i] < arr[i + 1]:\n",
    "                arr[i], arr[i + 1] = arr[i + 1], arr[i]\n",
    "            elif s == 'random' and np.random.rand() < 0.3:\n",
    "                arr[i], arr[i + 1] = arr[i + 1], arr[i]\n",
    "            # 'passive' does nothing\n",
    "        snapshots.append(arr.copy())\n",
    "    \n",
    "    return snapshots, strategies"
   ]
  },
  {
   "cell_type": "code",
   "execution_count": null,
   "metadata": {},
   "outputs": [
    {
     "data": {
      "text/html": [
       "<video src=\"chimeric_sort.mp4\" controls  >\n",
       "      Your browser does not support the <code>video</code> element.\n",
       "    </video>"
      ],
      "text/plain": [
       "<IPython.core.display.Video object>"
      ]
     },
     "execution_count": 13,
     "metadata": {},
     "output_type": "execute_result"
    }
   ],
   "source": [
    "arr4 = random.sample(range(1, 21), 20)\n",
    "snapshots4, strategies4 = chimeric_sort(arr4.copy(), passes=100)\n",
    "save_sort_animation(snapshots4, filename=\"chimeric_sort.mp4\")\n",
    "# Video(\"chimeric_sort.mp4\")"
   ]
  },
  {
   "cell_type": "markdown",
   "metadata": {},
   "source": [
    "![Chimeric Sorting Animation](chimeric_sort.gif)"
   ]
  },
  {
   "cell_type": "markdown",
   "metadata": {},
   "source": [
    "## Take-Aways"
   ]
  },
  {
   "cell_type": "markdown",
   "metadata": {},
   "source": [
    "**1. Simple Rules Can Produce Complex, Adaptive Behavior**\n",
    "- Even trivial algorithms (like bubble sort) can display robust, flexible dynamics when distributed or perturbed.\n",
    "- This echoes biological systems: local rules, embedded in a supportive structure, produce global order without centralized planning.\n",
    "\n",
    "**2. Context Changes Causality**\n",
    "- The same rule (if a[i] > a[i+1]: swap) behaves differently depending on:\n",
    "\t+ Execution order (serial vs parallel)\n",
    "\t+ Agent fidelity (perfect vs noisy)\n",
    "\t+ Agent diversity (homogeneous vs chimeric)\n",
    "\t+ This shows that causality is not intrinsic to the rule, but emerges from the system’s structure—just like in developmental biology or cognition.\n",
    "\n",
    "**3. Resilience Emerges Without Explicit Design**\n",
    "- Imperfect and chimeric systems still converge—despite having faulty, antagonistic, or passive agents.\n",
    "- This mimics biological regeneration or healing, where function recovers despite local failure, without needing a global repair protocol.\n",
    "\n",
    "**4. System Level Goal-Directedness Occurs without Explicit Design**\n",
    "- These systems look like they’re “trying” to sort—even when they have no global goal.\n",
    "- This aligns with Levin’s argument: teleology can emerge from local interactions—the appearance of purpose without purpose being hard-coded.\n",
    "\n",
    "**5. Heterogeneous Systems Can Self-Organize**\n",
    "- Systems made of conflicting rules and behaviors (bubble, reverse, passive, random) can still self-organize into order.\n",
    "- This highlights the power of collective dynamics: order doesn’t require uniformity."
   ]
  },
  {
   "cell_type": "markdown",
   "metadata": {},
   "source": []
  }
 ],
 "metadata": {
  "kernelspec": {
   "display_name": ".venv",
   "language": "python",
   "name": "python3"
  },
  "language_info": {
   "codemirror_mode": {
    "name": "ipython",
    "version": 3
   },
   "file_extension": ".py",
   "mimetype": "text/x-python",
   "name": "python",
   "nbconvert_exporter": "python",
   "pygments_lexer": "ipython3",
   "version": "3.12.10"
  }
 },
 "nbformat": 4,
 "nbformat_minor": 2
}
